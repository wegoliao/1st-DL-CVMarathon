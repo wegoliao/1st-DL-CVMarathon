{
 "cells": [
  {
   "cell_type": "code",
   "execution_count": 6,
   "metadata": {},
   "outputs": [],
   "source": [
    "\n",
    "import cv2\n",
    "\n",
    "img_path = 'data/hh.png'\n",
    "\n",
    "# 以彩色圖片的方式載入\n",
    "img = cv2.imread(img_path, cv2.IMREAD_COLOR)"
   ]
  },
  {
   "cell_type": "code",
   "execution_count": 7,
   "metadata": {},
   "outputs": [],
   "source": [
    "img_r = img.copy()\n",
    "img_r[:,:,0] = 0\n",
    "img_r[:,:,1] = 0\n",
    "\n",
    "img_g = img.copy()\n",
    "img_g[:,:,0] = 0\n",
    "img_g[:,:,2] = 0\n",
    "\n",
    "img_b = img.copy()\n",
    "img_b[:,:,1] = 0\n",
    "img_b[:,:,2] = 0\n"
   ]
  },
  {
   "cell_type": "code",
   "execution_count": null,
   "metadata": {},
   "outputs": [],
   "source": [
    "while True:\n",
    "    # 顯示彩圖\n",
    "    cv2.imshow('bgr', img)\n",
    "    # 顯示 r channel 圖\n",
    "    cv2.imshow('r', img_r)\n",
    "    # 顯示 g channel 圖\n",
    "    cv2.imshow('g', img_g)\n",
    "    # 顯示 b channel 圖\n",
    "    cv2.imshow('b', img_b)\n",
    "\n",
    "    # 直到按下 ESC 鍵才會自動關閉視窗結束程式\n",
    "    k = cv2.waitKey(0)\n",
    "    if k == 27:\n",
    "        cv2.destroyAllWindows()\n",
    "        break"
   ]
  }
 ],
 "metadata": {
  "kernelspec": {
   "display_name": "Python 3",
   "language": "python",
   "name": "python3"
  },
  "language_info": {
   "codemirror_mode": {
    "name": "ipython",
    "version": 3
   },
   "file_extension": ".py",
   "mimetype": "text/x-python",
   "name": "python",
   "nbconvert_exporter": "python",
   "pygments_lexer": "ipython3",
   "version": "3.7.4"
  }
 },
 "nbformat": 4,
 "nbformat_minor": 2
}
